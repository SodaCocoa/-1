{
  "cells": [
    {
      "cell_type": "markdown",
      "id": "0e1f4613",
      "metadata": {
        "id": "0e1f4613"
      },
      "source": [
        "### 점프투 파이썬의 딕셔너리 구조를 공부합니다.\n",
        "https://wikidocs.net/16"
      ]
    },
    {
      "cell_type": "code",
      "source": [
        "a=[1,2,3,4,5]\n",
        "if isinstance(a,list)==True:\n",
        "  print('list')"
      ],
      "metadata": {
        "colab": {
          "base_uri": "https://localhost:8080/"
        },
        "id": "kI_hXp1BJG19",
        "outputId": "0363a28c-b047-472c-ddfe-7dbcebef1d53"
      },
      "id": "kI_hXp1BJG19",
      "execution_count": 38,
      "outputs": [
        {
          "output_type": "stream",
          "name": "stdout",
          "text": [
            "list\n"
          ]
        }
      ]
    },
    {
      "cell_type": "markdown",
      "id": "1da396a7",
      "metadata": {
        "id": "1da396a7"
      },
      "source": [
        "### [미션1] 딕셔너리 구조의 인덱싱\n",
        "- 딕셔너리 구조는 json 파일 형식으로 작성할수 있음.\n",
        "- 외부데이터 셋으로 많이 보는 형식임"
      ]
    },
    {
      "cell_type": "code",
      "execution_count": 39,
      "id": "bba02b53",
      "metadata": {
        "id": "bba02b53",
        "outputId": "71ceb5bb-e1bf-462a-b721-af383ab3bcb6",
        "colab": {
          "base_uri": "https://localhost:8080/"
        }
      },
      "outputs": [
        {
          "output_type": "stream",
          "name": "stdout",
          "text": [
            "<class 'dict'>\n"
          ]
        }
      ],
      "source": [
        "data={'여행지':['서울시내','경기','전주','부산','제주'],\n",
        "  '예상경비1일':['50000','100000','200000'],\n",
        "  '예상일정': ['3일','2일']\n",
        "  }\n",
        "print(type(data))"
      ]
    },
    {
      "cell_type": "code",
      "execution_count": 40,
      "id": "e5bc9b07",
      "metadata": {
        "id": "e5bc9b07",
        "outputId": "cbf39a79-0270-4a23-aac2-8d595cea275c",
        "colab": {
          "base_uri": "https://localhost:8080/"
        }
      },
      "outputs": [
        {
          "output_type": "execute_result",
          "data": {
            "text/plain": [
              "{'여행지': ['서울시내', '경기', '전주', '부산', '제주'],\n",
              " '예상경비1일': ['50000', '100000', '200000'],\n",
              " '예상일정': ['3일', '2일']}"
            ]
          },
          "metadata": {},
          "execution_count": 40
        }
      ],
      "source": [
        "data"
      ]
    },
    {
      "cell_type": "code",
      "execution_count": 41,
      "id": "3db31e40",
      "metadata": {
        "id": "3db31e40",
        "outputId": "332b8c16-853b-4622-d673-a7aa024c88c1",
        "colab": {
          "base_uri": "https://localhost:8080/"
        }
      },
      "outputs": [
        {
          "output_type": "execute_result",
          "data": {
            "text/plain": [
              "['서울시내', '경기', '전주', '부산', '제주']"
            ]
          },
          "metadata": {},
          "execution_count": 41
        }
      ],
      "source": [
        "data['여행지']"
      ]
    },
    {
      "cell_type": "code",
      "execution_count": 42,
      "id": "ca17217e",
      "metadata": {
        "id": "ca17217e",
        "colab": {
          "base_uri": "https://localhost:8080/"
        },
        "outputId": "82313bb5-503a-4471-a5e2-3bf13340cb35"
      },
      "outputs": [
        {
          "output_type": "execute_result",
          "data": {
            "text/plain": [
              "['3일', '2일']"
            ]
          },
          "metadata": {},
          "execution_count": 42
        }
      ],
      "source": [
        "# 미션: data의 '예상일정'을 출력합니다.\n",
        "data['예상일정']"
      ]
    },
    {
      "cell_type": "code",
      "execution_count": 43,
      "id": "be6a03a9",
      "metadata": {
        "id": "be6a03a9",
        "colab": {
          "base_uri": "https://localhost:8080/",
          "height": 35
        },
        "outputId": "8f71f5ce-3eec-454a-d8e7-b2e2b58247dd"
      },
      "outputs": [
        {
          "output_type": "execute_result",
          "data": {
            "text/plain": [
              "'서울시내'"
            ],
            "application/vnd.google.colaboratory.intrinsic+json": {
              "type": "string"
            }
          },
          "metadata": {},
          "execution_count": 43
        }
      ],
      "source": [
        "# 미션: data의 '여행지'의 첫번째 '서울시내'를 출력합니다.\n",
        "data['여행지'][0]"
      ]
    },
    {
      "cell_type": "code",
      "execution_count": 44,
      "id": "4417b8f3",
      "metadata": {
        "id": "4417b8f3",
        "colab": {
          "base_uri": "https://localhost:8080/"
        },
        "outputId": "11b53e4e-6626-48d1-967d-c57f978fe58f"
      },
      "outputs": [
        {
          "output_type": "execute_result",
          "data": {
            "text/plain": [
              "('경기', '전주')"
            ]
          },
          "metadata": {},
          "execution_count": 44
        }
      ],
      "source": [
        "# 미션: data의 '여행지'의  두번째,세번째 '경기','전주'를 출력합니다.\n",
        "data['여행지'][1], data['여행지'][2]"
      ]
    },
    {
      "cell_type": "code",
      "execution_count": 45,
      "id": "c368c664",
      "metadata": {
        "id": "c368c664",
        "colab": {
          "base_uri": "https://localhost:8080/",
          "height": 35
        },
        "outputId": "66e6d518-33f2-4270-fe1b-e4c588001036"
      },
      "outputs": [
        {
          "output_type": "execute_result",
          "data": {
            "text/plain": [
              "'부산'"
            ],
            "application/vnd.google.colaboratory.intrinsic+json": {
              "type": "string"
            }
          },
          "metadata": {},
          "execution_count": 45
        }
      ],
      "source": [
        "# 미션: data의 '여행지'의 끝에서 두번째 '부산'을 출력합니다. (- 값으로 인덱싱)\n",
        "data['여행지'][-2]"
      ]
    },
    {
      "cell_type": "markdown",
      "id": "ffbbf079",
      "metadata": {
        "id": "ffbbf079"
      },
      "source": [
        "### [미션2] 데이터 원소갯수 구하기 (len함수)"
      ]
    },
    {
      "cell_type": "code",
      "execution_count": 46,
      "id": "479c4f8f",
      "metadata": {
        "id": "479c4f8f",
        "outputId": "fe63a3b3-8033-4f58-8e6b-22327dada542",
        "colab": {
          "base_uri": "https://localhost:8080/"
        }
      },
      "outputs": [
        {
          "output_type": "execute_result",
          "data": {
            "text/plain": [
              "3"
            ]
          },
          "metadata": {},
          "execution_count": 46
        }
      ],
      "source": [
        "len(data)"
      ]
    },
    {
      "cell_type": "code",
      "execution_count": 47,
      "id": "60ed436c",
      "metadata": {
        "id": "60ed436c",
        "colab": {
          "base_uri": "https://localhost:8080/"
        },
        "outputId": "128c0a15-c2d1-4eb8-89e3-2c4ff856dcde"
      },
      "outputs": [
        {
          "output_type": "stream",
          "name": "stdout",
          "text": [
            "5\n",
            "3\n",
            "2\n"
          ]
        }
      ],
      "source": [
        "# 미션2-1: 여행지, 예상경비1일, 예상일정의 항목갯수(원소갯수)를 print문으로 출력합니다.\n",
        "print(len(data['여행지']))\n",
        "print(len(data['예상경비1일']))\n",
        "print(len(data['예상일정']))"
      ]
    },
    {
      "cell_type": "code",
      "execution_count": 48,
      "id": "ad71bf77",
      "metadata": {
        "id": "ad71bf77",
        "colab": {
          "base_uri": "https://localhost:8080/"
        },
        "outputId": "7e4f18d4-9422-4f96-efdb-cfb47e8f67fa"
      },
      "outputs": [
        {
          "output_type": "stream",
          "name": "stdout",
          "text": [
            "5\n",
            "3\n",
            "2\n"
          ]
        }
      ],
      "source": [
        "# 미션2-2 : for를 이용하여서 미션 2-1 구문을 변경합니다.\n",
        "itemList=['여행지','예상경비1일','예상일정']\n",
        "\n",
        "for i in itemList:\n",
        "  print(len(data[i]))\n"
      ]
    },
    {
      "cell_type": "code",
      "execution_count": 49,
      "id": "f7e15f82",
      "metadata": {
        "id": "f7e15f82",
        "outputId": "50f06961-aeb7-45aa-87a0-ecd19652dd81",
        "colab": {
          "base_uri": "https://localhost:8080/"
        }
      },
      "outputs": [
        {
          "output_type": "stream",
          "name": "stdout",
          "text": [
            "5\n",
            "3\n",
            "항목갯수가 작음. 추가바람\n"
          ]
        }
      ],
      "source": [
        "# 미션2-3 : 미션 2-1의 for구문에 if문을 추가합니다.\n",
        "# 항목갯수가  3미만(<3)일때는 print문으로 '항목갯수가 작음. 추가바람'\n",
        "itemList=['여행지','예상경비1일','예상일정']\n",
        "\n",
        "for i in itemList:\n",
        "  if (len(data[i]) < 3):\n",
        "    print('항목갯수가 작음. 추가바람')\n",
        "  else:\n",
        "    print(len(data[i]))\n"
      ]
    },
    {
      "cell_type": "markdown",
      "id": "d2d5e62b",
      "metadata": {
        "id": "d2d5e62b"
      },
      "source": [
        "### [미션3] 랜덤값으로 여행일정 짜기"
      ]
    },
    {
      "cell_type": "code",
      "execution_count": 50,
      "id": "023e14b3",
      "metadata": {
        "id": "023e14b3",
        "outputId": "40abf2f4-56d8-4a29-de15-00e58f42c2d4",
        "colab": {
          "base_uri": "https://localhost:8080/"
        }
      },
      "outputs": [
        {
          "output_type": "execute_result",
          "data": {
            "text/plain": [
              "0"
            ]
          },
          "metadata": {},
          "execution_count": 50
        }
      ],
      "source": [
        "import random\n",
        "randomNum=random.randrange(0,4)   # 0,1,2,3의 random값 나옴 ctrl+enter 여러번 수행하면서 확인\n",
        "randomNum\n"
      ]
    },
    {
      "cell_type": "code",
      "execution_count": 51,
      "id": "151d5112",
      "metadata": {
        "id": "151d5112",
        "colab": {
          "base_uri": "https://localhost:8080/"
        },
        "outputId": "431e2691-734a-4c6e-d74c-72ee8f894796"
      },
      "outputs": [
        {
          "output_type": "stream",
          "name": "stdout",
          "text": [
            "서울시내\n"
          ]
        }
      ],
      "source": [
        "## 미션 3-1: 여행지의 갯수가 0,1,2,3,4번 5개임, 0~5개의 숫자가 나올수 있도록 작성합니다.\n",
        "##  여행지에서 random하게 지역을 출력합니다.\n",
        "\n",
        "randomNum=random.randrange(0,5)\n",
        "randomNum\n",
        "\n",
        "print(data['여행지'][randomNum])\n",
        "\n",
        "\n",
        "\n"
      ]
    },
    {
      "cell_type": "code",
      "source": [
        "random.choice(data['여행지'])"
      ],
      "metadata": {
        "colab": {
          "base_uri": "https://localhost:8080/",
          "height": 35
        },
        "id": "6ffZJ7LxN6k5",
        "outputId": "0727ca72-0344-439a-d7fb-2a1e626bbf43"
      },
      "id": "6ffZJ7LxN6k5",
      "execution_count": 52,
      "outputs": [
        {
          "output_type": "execute_result",
          "data": {
            "text/plain": [
              "'경기'"
            ],
            "application/vnd.google.colaboratory.intrinsic+json": {
              "type": "string"
            }
          },
          "metadata": {},
          "execution_count": 52
        }
      ]
    },
    {
      "cell_type": "code",
      "execution_count": 53,
      "id": "90bfb852",
      "metadata": {
        "id": "90bfb852"
      },
      "outputs": [],
      "source": [
        "## 미션 3-2: random으로 나올수 있는 마지막 값을 여행지의 갯수 len함수로 지정함.\n",
        "\n",
        "destination_num=len(data['여행지'])\n",
        "desRandnum=random.randint(0,destination_num-1)\n",
        "destination=data['여행지'][randomNum]"
      ]
    },
    {
      "cell_type": "code",
      "execution_count": 54,
      "id": "864fbf1a",
      "metadata": {
        "id": "864fbf1a",
        "colab": {
          "base_uri": "https://localhost:8080/"
        },
        "outputId": "4c15ae20-17f6-40af-af95-ff94f5c9b8ef"
      },
      "outputs": [
        {
          "output_type": "stream",
          "name": "stdout",
          "text": [
            "서울시내 200000 2일\n"
          ]
        }
      ],
      "source": [
        "## 미션 3-3: random으로 여행지, 예상경비1일,예상일정을 출력하세요\n",
        "moneyRandnum=random.randint(0,len(data['예상경비1일'])-1)\n",
        "planRandum=random.randint(0,len(data['예상일정'])-1)\n",
        "\n",
        "destination=data['여행지'][desRandnum]\n",
        "money=data['예상경비1일'][moneyRandnum]\n",
        "plan=data['예상일정'][planRandum]\n",
        "\n",
        "print(destination, money, plan)"
      ]
    },
    {
      "cell_type": "code",
      "execution_count": 55,
      "id": "5f704037",
      "metadata": {
        "id": "5f704037",
        "colab": {
          "base_uri": "https://localhost:8080/"
        },
        "outputId": "6632c478-2a46-4a68-dc59-fca6a72d852e"
      },
      "outputs": [
        {
          "output_type": "stream",
          "name": "stdout",
          "text": [
            "부산\n",
            "50000\n",
            "2일\n"
          ]
        }
      ],
      "source": [
        "## 미션 3-4: 미션3-3을 for 로 작성하지 않았다면 for로 변경\n",
        "\n",
        "for item in itemList:\n",
        "    length=random.randint(0,len(data[item])-1)\n",
        "    print(data[item][length])\n",
        "\n"
      ]
    },
    {
      "cell_type": "code",
      "execution_count": 56,
      "id": "4763a11e",
      "metadata": {
        "id": "4763a11e",
        "colab": {
          "base_uri": "https://localhost:8080/"
        },
        "outputId": "1b2c7a2d-bac0-4ac0-ab8e-5a6f6f25c55f"
      },
      "outputs": [
        {
          "output_type": "stream",
          "name": "stdout",
          "text": [
            "랜덤여행일정= ['제주', '100000', '2일']\n"
          ]
        }
      ],
      "source": [
        "## 미션 3-5: for로 변경된 구문울 이용하여서  랜덤여행일정 리스트를 제작\n",
        "\n",
        "plan=[]\n",
        "for item in itemList:\n",
        "    length=random.randint(0,len(data[item])-1)\n",
        "    plan.append(data[item][length])\n",
        "print('랜덤여행일정=', plan)\n",
        "\n",
        "# 출력예 ==> 랜덤여행일정=['경기','50000','3일']"
      ]
    },
    {
      "cell_type": "code",
      "execution_count": 57,
      "id": "785063e5",
      "metadata": {
        "id": "785063e5",
        "colab": {
          "base_uri": "https://localhost:8080/"
        },
        "outputId": "2537506e-d0c4-4a90-f2fd-861f9bf8f8fa"
      },
      "outputs": [
        {
          "output_type": "stream",
          "name": "stdout",
          "text": [
            "랜덤여행일지= ['경기', 100000, 2, 200000]\n"
          ]
        }
      ],
      "source": [
        "# 미션3-6: 랜덤여행일정의 자료의 1번 인덱스의 '50000'을 숫자형으로 변경\n",
        "#          랜덤여행일정 자료의 2번 인덱스의 '3일'의 '일'을 제거하고 숫자형으로 변경 (구글검색  '파이썬 replace')\n",
        "#          최종결과는\n",
        "# 랜덤여행일지=['경기',50000,3,150000]    #마지막은 1일경비*예상일정\n",
        "\n",
        "plan=[]\n",
        "for item in itemList:\n",
        "    length=random.randint(0,len(data[item])-1)\n",
        "    plan.append(data[item][length])\n",
        "\n",
        "plan[1]=int(plan[1])\n",
        "plan[2]=int(plan[2].replace('일',''))\n",
        "cal = plan[1]*plan[2]\n",
        "plan.append(cal)\n",
        "print('랜덤여행일지=',plan)\n",
        "\n",
        "\n"
      ]
    },
    {
      "cell_type": "markdown",
      "id": "2f4bd210",
      "metadata": {
        "id": "2f4bd210"
      },
      "source": [
        "### [미션4] 정규표현식에 대하여 공부하여 봅니다.\n",
        "- 구글검색: 파이썬 re.sub\n",
        "- https://wikidocs.net/1642    (점프투파이썬)"
      ]
    },
    {
      "cell_type": "code",
      "execution_count": 58,
      "id": "fe0f7a5f",
      "metadata": {
        "id": "fe0f7a5f"
      },
      "outputs": [],
      "source": [
        "data={'여행지':['서울시내','경기','전주','부산','제주'],\n",
        "  '예상경비1일':['50000','100000','200000'],\n",
        "  '예상일정': ['!3일정도','2일^^^']\n",
        "  }\n"
      ]
    },
    {
      "cell_type": "code",
      "execution_count": 59,
      "id": "8c558f22",
      "metadata": {
        "id": "8c558f22",
        "colab": {
          "base_uri": "https://localhost:8080/"
        },
        "outputId": "ab10ee25-f406-4560-f5ef-03e102a938f0"
      },
      "outputs": [
        {
          "output_type": "stream",
          "name": "stdout",
          "text": [
            "{'여행지': ['서울시내', '경기', '전주', '부산', '제주'], '예상경비1일': ['50000', '100000', '200000'], '예상일정': ['3', '2']}\n"
          ]
        }
      ],
      "source": [
        "# [미션] 위와같은 구문에서 data['예상일정']에서 숫자만 남기고 나머지 글자는 모두 제거\n",
        "import re\n",
        "\n",
        "data['예상일정']=[re.sub(r'\\D','',schedule) for schedule in data['예상일정']]\n",
        "\n",
        "print(data)"
      ]
    },
    {
      "cell_type": "markdown",
      "id": "af51aded",
      "metadata": {
        "id": "af51aded"
      },
      "source": [
        "### [미션5]:\n",
        "- 아래와 같은 여행 일정의, 국내여행과 해외여행에 관한 정보가 있는 딕셔너리 구조에서의 인덱싱"
      ]
    },
    {
      "cell_type": "code",
      "execution_count": 60,
      "id": "0e4cb615",
      "metadata": {
        "id": "0e4cb615",
        "outputId": "52f3ecc2-f492-4bdb-adb9-44b1a07c8b82",
        "colab": {
          "base_uri": "https://localhost:8080/"
        }
      },
      "outputs": [
        {
          "output_type": "execute_result",
          "data": {
            "text/plain": [
              "{'여행': [{'여행지': ['서울시내', '경기', '전주', '부산', '제주'],\n",
              "   '예상경비1일': ['50000', '100000', '200000'],\n",
              "   '예상일정': ['!3일정도', '2일^^^']},\n",
              "  {'여행지': ['유럽', '아시아'],\n",
              "   '예상경비1일': ['100000', '400000', '300000', '150000'],\n",
              "   '예상일정': ['4일갈까?', '~7일도좋아', '20일##']}]}"
            ]
          },
          "metadata": {},
          "execution_count": 60
        }
      ],
      "source": [
        "data={'여행': [\n",
        "{'여행지':['서울시내','경기','전주','부산','제주'],\n",
        "  '예상경비1일':['50000','100000','200000'],\n",
        "  '예상일정': ['!3일정도','2일^^^']\n",
        "  }\n",
        ",\n",
        "{'여행지':['유럽','아시아'],\n",
        "  '예상경비1일':['100000','400000','300000','150000'],\n",
        "  '예상일정': ['4일갈까?','~7일도좋아','20일##']\n",
        "  }]\n",
        "}\n",
        "data"
      ]
    },
    {
      "cell_type": "code",
      "execution_count": 61,
      "id": "947d2814",
      "metadata": {
        "id": "947d2814",
        "colab": {
          "base_uri": "https://localhost:8080/"
        },
        "outputId": "4db300c2-5c8b-4142-f918-451cc776a167"
      },
      "outputs": [
        {
          "output_type": "execute_result",
          "data": {
            "text/plain": [
              "{'여행지': ['서울시내', '경기', '전주', '부산', '제주'],\n",
              " '예상경비1일': ['50000', '100000', '200000'],\n",
              " '예상일정': ['!3일정도', '2일^^^']}"
            ]
          },
          "metadata": {},
          "execution_count": 61
        }
      ],
      "source": [
        "# 미션 : 국내여행만 출력\n",
        "data['여행'][0]"
      ]
    },
    {
      "cell_type": "code",
      "execution_count": 62,
      "id": "b730bfc9",
      "metadata": {
        "id": "b730bfc9",
        "colab": {
          "base_uri": "https://localhost:8080/"
        },
        "outputId": "d5f84227-64e8-41bb-84bc-5fbc6ec25acf"
      },
      "outputs": [
        {
          "output_type": "execute_result",
          "data": {
            "text/plain": [
              "{'여행지': ['유럽', '아시아'],\n",
              " '예상경비1일': ['100000', '400000', '300000', '150000'],\n",
              " '예상일정': ['4일갈까?', '~7일도좋아', '20일##']}"
            ]
          },
          "metadata": {},
          "execution_count": 62
        }
      ],
      "source": [
        "# 미션: 해외여행만 출력\n",
        "data['여행'][1]"
      ]
    },
    {
      "cell_type": "code",
      "execution_count": 63,
      "id": "19db2845",
      "metadata": {
        "id": "19db2845",
        "colab": {
          "base_uri": "https://localhost:8080/"
        },
        "outputId": "c00b5cdd-d223-43b2-be00-ee712eccd9ba"
      },
      "outputs": [
        {
          "output_type": "execute_result",
          "data": {
            "text/plain": [
              "{'여행지': ['유럽', '아시아'],\n",
              " '예상경비1일': ['100000', '400000', '300000', '150000'],\n",
              " '예상일정': ['4일갈까?', '~7일도좋아', '20일##']}"
            ]
          },
          "metadata": {},
          "execution_count": 63
        }
      ],
      "source": [
        "# 미션: 국내,해외여행중 random으로 출력\n",
        "import random\n",
        "\n",
        "randNum=random.randint(0,1)\n",
        "\n",
        "data['여행'][randNum]"
      ]
    },
    {
      "cell_type": "code",
      "execution_count": 64,
      "id": "303441d3",
      "metadata": {
        "id": "303441d3",
        "colab": {
          "base_uri": "https://localhost:8080/"
        },
        "outputId": "5ceb4bf9-e8b1-4cba-a0fb-a77d8e524a4e"
      },
      "outputs": [
        {
          "output_type": "stream",
          "name": "stdout",
          "text": [
            "랜덤여행일정= ['경기', 100000, 2, 200000]\n"
          ]
        }
      ],
      "source": [
        "# 최종: 국내,해외여행지 random하게 나오며, 국내, 해외여행지에서 다시 random하게 여행지, 예상경비1일,예상일정을\n",
        "# 랜덤여행일정에 제작\n",
        "# 예상경비1일*예상일정이 들어간 최종 경비까지 출력되게함\n",
        "# 최종출력물=> 랜덤여행일정=[여행지,예상경비1일숫자로,예상일정숫자로, 예상경비1일*예상일정]\n",
        "import random\n",
        "import re\n",
        "\n",
        "\n",
        "randomList=[]\n",
        "travel=data['여행'][random.randint(0,len(data['여행'])-1)]\n",
        "randomDes=travel['여행지'][random.randint(0,len(travel['여행지'])-1)]\n",
        "travel['예상일정']=[re.sub(r'\\D','',schedule) for schedule in travel['예상일정']]\n",
        "randomMoney=int(travel['예상경비1일'][random.randint(0,len(travel['예상경비1일'])-1)])\n",
        "randomPlan=int(travel['예상일정'][random.randint(0,len(travel['예상일정'])-1)])\n",
        "randomExpense=randomMoney*randomPlan\n",
        "randomList.extend([randomDes,randomMoney,randomPlan,randomExpense])\n",
        "\n",
        "\n",
        "print('랜덤여행일정=',randomList)\n",
        "\n",
        "\n",
        "# items[2]=int(items[2])\n",
        "# randomList=randomList.append(items[0],items[1], items[2], items[1]*items[2])\n",
        "\n",
        "# print(randomList)"
      ]
    }
  ],
  "metadata": {
    "kernelspec": {
      "display_name": "Python 3 (ipykernel)",
      "language": "python",
      "name": "python3"
    },
    "language_info": {
      "codemirror_mode": {
        "name": "ipython",
        "version": 3
      },
      "file_extension": ".py",
      "mimetype": "text/x-python",
      "name": "python",
      "nbconvert_exporter": "python",
      "pygments_lexer": "ipython3",
      "version": "3.9.7"
    },
    "colab": {
      "provenance": []
    }
  },
  "nbformat": 4,
  "nbformat_minor": 5
}