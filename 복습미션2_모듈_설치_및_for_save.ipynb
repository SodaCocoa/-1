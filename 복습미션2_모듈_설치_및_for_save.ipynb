{
  "cells": [
    {
      "cell_type": "markdown",
      "id": "71e12d4e",
      "metadata": {
        "id": "71e12d4e"
      },
      "source": [
        "### [QR코드 제작 프로그램]\n",
        "- QR코드에 대하여 검색하여서 정확한 의미를 정리합니다.\n",
        "\n",
        "\n",
        "- 파이썬에서 QR코드를 제작하는 모듈을 실행해보세요.\n"
      ]
    },
    {
      "cell_type": "markdown",
      "id": "bb71d59f",
      "metadata": {
        "id": "bb71d59f"
      },
      "source": [
        "###  [미션1] QR코드 생성기가 실행될수 있도록 함"
      ]
    },
    {
      "cell_type": "code",
      "execution_count": 4,
      "id": "HfBKRzW-hbsY",
      "metadata": {
        "colab": {
          "base_uri": "https://localhost:8080/"
        },
        "id": "HfBKRzW-hbsY",
        "outputId": "97c7ec5d-6efa-4eff-e755-4158a8223b91"
      },
      "outputs": [
        {
          "name": "stdout",
          "output_type": "stream",
          "text": [
            "Collecting qrcode\n",
            "  Downloading qrcode-7.4.2-py3-none-any.whl (46 kB)\n",
            "     ---------------------------------------- 46.2/46.2 kB ? eta 0:00:00\n",
            "Requirement already satisfied: typing-extensions in c:\\users\\samsung\\appdata\\local\\programs\\python\\python311\\lib\\site-packages (from qrcode) (4.9.0)\n",
            "Collecting pypng\n",
            "  Downloading pypng-0.20220715.0-py3-none-any.whl (58 kB)\n",
            "     ---------------------------------------- 58.1/58.1 kB 3.2 MB/s eta 0:00:00\n",
            "Requirement already satisfied: colorama in c:\\users\\samsung\\appdata\\roaming\\python\\python311\\site-packages (from qrcode) (0.4.6)\n",
            "Installing collected packages: pypng, qrcode\n",
            "Successfully installed pypng-0.20220715.0 qrcode-7.4.2\n",
            "Note: you may need to restart the kernel to use updated packages.\n"
          ]
        },
        {
          "name": "stderr",
          "output_type": "stream",
          "text": [
            "  WARNING: The script qr.exe is installed in 'c:\\Users\\SAMSUNG\\AppData\\Local\\Programs\\Python\\Python311\\Scripts' which is not on PATH.\n",
            "  Consider adding this directory to PATH or, if you prefer to suppress this warning, use --no-warn-script-location.\n",
            "\n",
            "[notice] A new release of pip available: 22.3 -> 23.3.2\n",
            "[notice] To update, run: python.exe -m pip install --upgrade pip\n"
          ]
        }
      ],
      "source": [
        "pip install qrcode"
      ]
    },
    {
      "cell_type": "markdown",
      "id": "154e1bf0",
      "metadata": {
        "id": "154e1bf0"
      },
      "source": [
        "###  [미션2] qr코드 생성 및 저장\n",
        "- QR코드 넣을 폴더를 미리 생성해 놓으세요. (수작업으로해도 됨)\n",
        "    -예: c:\\\\data\\\\qr\n"
      ]
    },
    {
      "cell_type": "code",
      "execution_count": 63,
      "id": "scigdj1MjoQ_",
      "metadata": {
        "colab": {
          "base_uri": "https://localhost:8080/",
          "height": 199
        },
        "id": "scigdj1MjoQ_",
        "outputId": "3192d4de-79cc-4fb0-fdfa-5e843049f0c9"
      },
      "outputs": [
        {
          "ename": "FileExistsError",
          "evalue": "[WinError 183] 파일이 이미 있으므로 만들 수 없습니다: 'C:/Users/SAMSUNG/OneDrive/바탕 화면/새싹복습1'",
          "output_type": "error",
          "traceback": [
            "\u001b[1;31m---------------------------------------------------------------------------\u001b[0m",
            "\u001b[1;31mFileExistsError\u001b[0m                           Traceback (most recent call last)",
            "Cell \u001b[1;32mIn[63], line 2\u001b[0m\n\u001b[0;32m      1\u001b[0m \u001b[38;5;28;01mimport\u001b[39;00m \u001b[38;5;21;01mos\u001b[39;00m\n\u001b[1;32m----> 2\u001b[0m \u001b[43mos\u001b[49m\u001b[38;5;241;43m.\u001b[39;49m\u001b[43mmkdir\u001b[49m\u001b[43m(\u001b[49m\u001b[38;5;124;43m'\u001b[39;49m\u001b[38;5;124;43mC:/Users/SAMSUNG/OneDrive/바탕 화면/새싹복습1\u001b[39;49m\u001b[38;5;124;43m'\u001b[39;49m\u001b[43m)\u001b[49m\n",
            "\u001b[1;31mFileExistsError\u001b[0m: [WinError 183] 파일이 이미 있으므로 만들 수 없습니다: 'C:/Users/SAMSUNG/OneDrive/바탕 화면/새싹복습1'"
          ]
        }
      ],
      "source": [
        "import os\n",
        "os.mkdir('C:/Users/SAMSUNG/OneDrive/바탕 화면/새싹복습1')"
      ]
    },
    {
      "cell_type": "markdown",
      "id": "74190530",
      "metadata": {
        "id": "74190530"
      },
      "source": [
        "#### [미션2-1] 이스케이프 문자에 대해 알아봄\n",
        "- 폴더지정지 \\\\를 하는 이유에 대해 알아봄\n",
        "- 1번복습자료의 정규표현식에도 나온 내용들임.\n",
        "    - 구글검색 '파이썬 이스케이프 문자'"
      ]
    },
    {
      "cell_type": "code",
      "execution_count": 64,
      "id": "439e8372",
      "metadata": {
        "colab": {
          "base_uri": "https://localhost:8080/"
        },
        "id": "439e8372",
        "outputId": "24462945-912c-4365-a401-098dae296142"
      },
      "outputs": [
        {
          "name": "stdout",
          "output_type": "stream",
          "text": [
            "[]\n",
            "-------------------------------\n",
            "[]\n"
          ]
        }
      ],
      "source": [
        "# 참고: 윈도우즈계열에서는 이스케이프 문자(\\)와 디렉토리경로(\\)의 혼동을 줄이기 위해\n",
        "# 디렉토리에서는 \\\\ 를 사용함.\n",
        "# 이때 r을 앞에 넣으면 \\를 이스케이프문자로 인식하지 않음.\n",
        "from glob import glob\n",
        "\n",
        "print(glob(\"c:\\\\data\\\\img\\\\*\\\\*\"))\n",
        "print('-------------------------------')\n",
        "print(glob(r\"c:\\data\\img\\*\\*\"))"
      ]
    },
    {
      "cell_type": "markdown",
      "id": "0aa261cd",
      "metadata": {
        "id": "0aa261cd"
      },
      "source": [
        "#### [미션2-2] QR저장\n",
        "- 생성된 QR코드를 qr폴더에 저장함. 이때 이름은  qr_data의 www.naver.com 의 naver.png로 저장함\n",
        "- qr도 이미지 파일임으로  qr_img.save로 저장가능함.\n",
        "    - qr.save(저장경로가있는파일명)"
      ]
    },
    {
      "cell_type": "code",
      "execution_count": 67,
      "id": "3b3adf4f",
      "metadata": {
        "colab": {
          "base_uri": "https://localhost:8080/",
          "height": 307
        },
        "id": "3b3adf4f",
        "outputId": "9ccdc550-376c-4a1e-c152-eed8ed3d06c1"
      },
      "outputs": [],
      "source": [
        "import qrcode\n",
        "\n",
        "qr_data = 'www.naver.com' #네이버 경로를 rq_data에 저장\n",
        "qr_img = qrcode.make(qr_data) #img 제작\n",
        "\n",
        "#img를 경로로 지정해서 저장 마지막에/하고싶은이름.png로 저장\n",
        "qr_img.save(\"C:/Users/SAMSUNG/OneDrive/바탕 화면/새싹복습1/naver.png\") #naver.png의 큐알코드 생성완료\n"
      ]
    },
    {
      "cell_type": "code",
      "execution_count": 70,
      "id": "18b2c4d0",
      "metadata": {
        "id": "18b2c4d0"
      },
      "outputs": [
        {
          "name": "stdout",
          "output_type": "stream",
          "text": [
            "fileName: naver.png\n",
            "saveFileName: C:/Users/SAMSUNG/OneDrive/바탕 화면/새싹복습1\\qr\\naver.png\n"
          ]
        }
      ],
      "source": [
        "## [미션2-2-1] www.naver.com에서 naver만 남기고\n",
        "##         + '.png'  로 문자열을 연결하여 fileName으로 지정함\n",
        "## fileName은 'naver.png'\n",
        "\n",
        "###  저장경로 + fileName으로 saveFileName을 제작함\n",
        "## saveFileName은  'c:\\data\\qr\\naver.png'\n",
        "\n",
        "import os\n",
        "url = 'www.naver.com'\n",
        "fileName = 'naver' + '.png'\n",
        "\n",
        "baseDir='C:/Users/SAMSUNG/OneDrive/바탕 화면/새싹복습1'  # 본인 디렉토리(폴더)로 변경하세요\n",
        "saveFileName = os.path.join(baseDir, 'qr', fileName) # saveFileName 생성\n",
        "\n",
        "# 결과 출력\n",
        "print(\"fileName:\", fileName)\n",
        "print(\"saveFileName:\", saveFileName)"
      ]
    },
    {
      "cell_type": "markdown",
      "id": "5a6f1b1c",
      "metadata": {
        "id": "5a6f1b1c"
      },
      "source": [
        "### [미션3] 리스트구조에 있는 사이트를 QR제작하고 저장함\n",
        "- 기존에 저장된 파일은 수동으로 모두 제거한뒤 (qr 디렉토리 열어서 삭제) 시작\n",
        "- qrList에 있는 사이트의 이름으로 QR제작\n",
        "    - naver.png, daum.png, google.png"
      ]
    },
    {
      "cell_type": "code",
      "execution_count": 100,
      "id": "c20b3a12",
      "metadata": {
        "id": "c20b3a12"
      },
      "outputs": [],
      "source": [
        "qrList=['www.naver.com','www.daum.net','www.google.co.kr']\n",
        "baseDir='C:/Users/SAMSUNG/OneDrive/바탕 화면/새싹복습1'  # 본인디렉토리로 변경하세요.\n"
      ]
    },
    {
      "cell_type": "code",
      "execution_count": 101,
      "id": "393981e2",
      "metadata": {},
      "outputs": [],
      "source": [
        "import qrcode\n",
        "\n",
        "qr_data = qrList\n",
        "qr_img = qrcode.make(qr_data) #img 제작\n",
        "\n",
        "#img를 경로로 지정해서 저장 마지막에/하고싶은이름.png로 저장\n",
        "qr_img.save(\"C:/Users/SAMSUNG/OneDrive/바탕 화면/새싹복습1/naver.png\") #naver.png의 큐알코드 생성완료\n"
      ]
    },
    {
      "cell_type": "markdown",
      "id": "73221db1",
      "metadata": {
        "id": "73221db1"
      },
      "source": [
        "### [미션4] 중복제거하고 QR제작\n",
        "- 예를 들어 교육생 선호 검색사이트를 설문조사하거나 크롤링한 자료에서 <br>\n",
        "중복되어 있는 사이트가 나올때, 이를 제거하고 <br>\n",
        "QR을 제작하영 봄"
      ]
    },
    {
      "cell_type": "code",
      "execution_count": 72,
      "id": "937694f5",
      "metadata": {
        "colab": {
          "base_uri": "https://localhost:8080/"
        },
        "id": "937694f5",
        "outputId": "e4fbbaa0-7aeb-4809-8b5d-6d097beb80a9"
      },
      "outputs": [
        {
          "data": {
            "text/plain": [
              "[['홍석현', 'www.naver.com'],\n",
              " ['우병길', 'www.daum.net'],\n",
              " ['조상국', 'www.daum.com'],\n",
              " ['최정기', 'www.daum.net'],\n",
              " ['최순옥', 'www.daum.net'],\n",
              " ['최형기', 'www.daum.net'],\n",
              " ['최건정', 'www.google.co.kr'],\n",
              " ['김정연', 'www.daum.net'],\n",
              " ['김지수', 'www.google.co.kr'],\n",
              " ['김용석', 'www.daum.net'],\n",
              " ['조유승', 'www.google.co.kr'],\n",
              " ['손명준', 'www.daum.net']]"
            ]
          },
          "execution_count": 72,
          "metadata": {},
          "output_type": "execute_result"
        }
      ],
      "source": [
        "survey=[['홍석현','www.naver.com'],\n",
        "        ['우병길','www.daum.net'],\n",
        "        ['조상국','www.daum.com'],\n",
        "        ['최정기','www.daum.net'],\n",
        "        ['최순옥','www.daum.net'],\n",
        "        ['최형기','www.daum.net'],\n",
        "        ['최건정','www.google.co.kr'],\n",
        "        ['김정연','www.daum.net'],\n",
        "        ['김지수','www.google.co.kr'],\n",
        "        ['김용석','www.daum.net'],\n",
        "        ['조유승','www.google.co.kr'],\n",
        "        ['손명준','www.daum.net']\n",
        "       ]\n",
        "survey"
      ]
    },
    {
      "cell_type": "code",
      "execution_count": 75,
      "id": "4a6656ff",
      "metadata": {
        "colab": {
          "base_uri": "https://localhost:8080/"
        },
        "id": "4a6656ff",
        "outputId": "309e5600-960a-432b-8f03-287f794d1da5"
      },
      "outputs": [
        {
          "name": "stdout",
          "output_type": "stream",
          "text": [
            "['홍석현', 'www.naver.com']\n",
            "['우병길', 'www.daum.net']\n",
            "['조상국', 'www.daum.com']\n",
            "['최정기', 'www.daum.net']\n",
            "['최순옥', 'www.daum.net']\n",
            "['최형기', 'www.daum.net']\n",
            "['최건정', 'www.google.co.kr']\n",
            "['김정연', 'www.daum.net']\n",
            "['김지수', 'www.google.co.kr']\n",
            "['김용석', 'www.daum.net']\n",
            "['조유승', 'www.google.co.kr']\n"
          ]
        },
        {
          "data": {
            "text/plain": [
              "['김용석', 'www.daum.net']"
            ]
          },
          "execution_count": 75,
          "metadata": {},
          "output_type": "execute_result"
        }
      ],
      "source": [
        "# [미션4-1] svrvey의 선호사이트만 출력하여 봄.\n",
        "# for를 이용해야 한번에 출력할수 있음.\n",
        "# for가 안될때는 인덱싱해서 한개씩 출력하여 봄\n",
        "\n",
        "for i in range(0,len(survey)-1):\n",
        "  print(survey[i])\n",
        "\n",
        "survey[0]\n",
        "survey[1]\n",
        "survey[2]\n",
        "survey[3]\n",
        "survey[4]\n",
        "survey[5]\n",
        "survey[6]\n",
        "survey[7]\n",
        "survey[8]\n",
        "survey[9]\n"
      ]
    },
    {
      "cell_type": "code",
      "execution_count": 77,
      "id": "563b6c55",
      "metadata": {
        "colab": {
          "base_uri": "https://localhost:8080/"
        },
        "id": "563b6c55",
        "outputId": "93acfc59-cc91-4f0c-86c0-e653280e7402"
      },
      "outputs": [
        {
          "name": "stdout",
          "output_type": "stream",
          "text": [
            "{'www.google.co.kr', 'www.daum.net', 'www.naver.com'}\n",
            "site=> {'www.google.co.kr', 'www.daum.net', 'www.naver.com'}\n",
            "site=> ['www.google.co.kr', 'www.daum.net', 'www.naver.com']\n"
          ]
        }
      ],
      "source": [
        "# [미션4-2] site라는 리스트에 survey의 사이트만 추가하고\n",
        "## 중복제거함( 구글검색 '파이썬 중복 제거')\n",
        "## 중복제거한 함수는 인덱싱 개념이 없기 때문에 list로 변환해야함.\n",
        "site=[]\n",
        "for i in range(0,len(survey)-1):\n",
        "  site.append(survey[i][1])\n",
        "\n",
        "siteList=set(site)\n",
        "siteList.discard('www.daum.com')\n",
        "\n",
        "\n",
        "print(siteList)\n",
        "\n",
        "# 최종출력은  site => ['www.google.co.kr', 'www.naver.com', 'www.daum.net']\n",
        "print('site=>',siteList) #site=>추가\n",
        "print('site=>',list(siteList)) #list로 변환하여 최종출력"
      ]
    },
    {
      "cell_type": "code",
      "execution_count": 91,
      "id": "6d3930f8",
      "metadata": {
        "colab": {
          "base_uri": "https://localhost:8080/",
          "height": 253
        },
        "id": "6d3930f8",
        "outputId": "fd750321-252e-43b6-b4b4-37e3a2525da7"
      },
      "outputs": [
        {
          "name": "stdout",
          "output_type": "stream",
          "text": [
            "[<qrcode.image.pure.PyPNGImage object at 0x00000232A4F44210>]\n"
          ]
        }
      ],
      "source": [
        "# [미션4-3] 중복제거된 site자료로 qr코드를 제작하고 저장함.\n",
        "# 위의 미션 4-1,4-2,4-3을 아래에 한번에 작성하세요\n",
        "\n",
        "# for i in range(0,len(survey)-1):\n",
        "#   print(survey[i])\n",
        "\n",
        "site=[]\n",
        "for i in range(0,len(survey)-1):\n",
        "  site.append(survey[i][1])\n",
        "\n",
        "siteList=set(site)\n",
        "siteList.discard('www.daum.com')\n",
        "\n",
        "\n",
        "qrList=[]\n",
        "for qrCode in siteList:\n",
        "  qr_img = qrcode.make(qrCode)\n",
        "  qrList.append(qr_img)\n",
        "\n",
        "print(qrList)\n"
      ]
    },
    {
      "cell_type": "code",
      "execution_count": 92,
      "id": "cc7914df",
      "metadata": {},
      "outputs": [
        {
          "name": "stdout",
          "output_type": "stream",
          "text": [
            "[미션4-1] 선호사이트 출력:\n",
            "www.google.co.kr\n",
            "www.naver.com\n",
            "www.daum.net\n",
            "www.google.co.kr\n",
            "www.naver.com\n",
            "\n",
            "[미션4-2] 중복제거된 site 리스트 생성:\n",
            "site => ['naver.com', 'google.co.kr', 'daum.net']\n",
            "\n",
            "[미션4-3] 중복제거된 site 자료로 qr코드 제작 및 저장:\n",
            "QR 코드가 C:/Users/SAMSUNG/OneDrive/바탕 화면/새싹복습1/2.png 폴더에 저장되었습니다.\n"
          ]
        }
      ],
      "source": [
        "import qrcode\n",
        "import os\n",
        "\n",
        "# [미션4-1] 선호사이트 출력\n",
        "print(\"[미션4-1] 선호사이트 출력:\")\n",
        "for site in survey:\n",
        "    print(site)\n",
        "\n",
        "# [미션4-2] 중복제거된 site 리스트 생성\n",
        "print(\"\\n[미션4-2] 중복제거된 site 리스트 생성:\")\n",
        "site = list(set([s.replace('www.', '') for s in survey]))\n",
        "site = [s for s in site if s != 'daum.com']\n",
        "print('site =>', site)\n",
        "\n",
        "# [미션4-3] 중복제거된 site 자료로 qr코드 제작 및 저장\n",
        "print(\"\\n[미션4-3] 중복제거된 site 자료로 qr코드 제작 및 저장:\")\n",
        "\n",
        "qr_folder = 'C:/Users/SAMSUNG/OneDrive/바탕 화면/새싹복습1/2.png'  # QR 코드 저장 폴더\n",
        "\n",
        "if not os.path.exists(qr_folder):\n",
        "    os.makedirs(qr_folder)\n",
        "\n",
        "for qrCode in site:\n",
        "    qr_img = qrcode.make(qrCode)\n",
        "    qr_img.save(os.path.join(qr_folder, f'{qrCode}.png'))\n",
        "\n",
        "print(f\"QR 코드가 {qr_folder} 폴더에 저장되었습니다.\")\n",
        "#중복을 제거후 각 QR 이미지로 저장"
      ]
    },
    {
      "cell_type": "markdown",
      "id": "b1fbff6b",
      "metadata": {
        "id": "b1fbff6b"
      },
      "source": [
        "### [미션5] 자료가 있는 딕셔너리 세트를 이용한 QR제작\n",
        "- 외부 json형태로 데이터셋을 받을수 있음으로\n",
        "- 딕셔너리 형태의 자료 셋도 필수로 알아야함."
      ]
    },
    {
      "cell_type": "code",
      "execution_count": 26,
      "id": "4cdd5ad6",
      "metadata": {
        "id": "4cdd5ad6"
      },
      "outputs": [],
      "source": [
        "## [미션5-1] 딕셔너리 구조에서 사이트 주소를 불러와서 QR제작\n",
        "# 하기 위하여 사이트 주소만 출력하여 봄\n",
        "\n",
        "qr_data={'사이트주소':['www.daum.net','www.naver.com','www.google.co.kr']}\n"
      ]
    },
    {
      "cell_type": "code",
      "execution_count": 29,
      "id": "f3fcb606",
      "metadata": {
        "id": "f3fcb606"
      },
      "outputs": [
        {
          "name": "stdout",
          "output_type": "stream",
          "text": [
            "www.daum.net\n",
            "www.naver.com\n",
            "www.google.co.kr\n"
          ]
        }
      ],
      "source": [
        "## [미션5-2] 아래의 딕셔너리 구조에서 사이트 주소만 출력하여 봄\n",
        "\n",
        "qr_data={'data':\n",
        "         [ {'작성자':'홍석현', '선호사이트':'www.daum.net'},\n",
        "           {'작성자': '우병길','선호사이트':'www.naver.com'},\n",
        "          {'작성자': '조상국','선호사이트':'www.google.co.kr'}\n",
        "\n",
        "         ]\n",
        "        }\n",
        "#미션 코드\n",
        "for item in qr_data['data']:\n",
        "    print(item['선호사이트'])\n"
      ]
    },
    {
      "cell_type": "markdown",
      "id": "f1ef21cd",
      "metadata": {
        "id": "f1ef21cd"
      },
      "source": [
        "### [미션6]  참고: 파일명을 만들기 위한 문자열 제작\n",
        "\n",
        "\n",
        "- 'https://pythontutor.com/'   로 입력한 문자열을 'pythontutor' 로 출력\n",
        "- 'http://mqr.kr/generate/email/?hl=ko' 로 입력한 문자열을 'mqr' 만 출력\n",
        "\n",
        "==> 문자열 나누기 split를 두번사용해도 되고, 문자열 나누기와 바꾸기 replace를 혼합해서 사용해도됨. <br>\n",
        "==> 프로그램코드를 생각하지 말고 문장구조에서 어떻게 하면 원하는 글자만 남을수 있는지에 대한 규칙을 찾아낼것.\n",
        "\n"
      ]
    },
    {
      "cell_type": "code",
      "execution_count": 40,
      "metadata": {},
      "outputs": [
        {
          "name": "stdout",
          "output_type": "stream",
          "text": [
            "pythontutor\n",
            "mqr\n"
          ]
        }
      ],
      "source": [
        "# 첫 번째 문자열에서 'https://' 이후의 부분을 추출\n",
        "qr_data1 = 'https://pythontutor.com/'\n",
        "output1 = qr_data1.split('https://')[1].split('.')[0] #https://뒤에 첫부분을 추출후 .기준으로 0번째자리 인덱싱 [pythontutor/.com]\n",
        "\n",
        "# 두 번째 문자열에서 'http://' 이후의 부분을 추출 후, '/generate/email/?hl=ko' 부분을 제거\n",
        "qr_data2 = 'http://mqr.kr/generate/email/?hl=ko'\n",
        "#https://뒤에 첫부분을 추출후 / 기준으로 슬라이싱하면 mqr.kr에서 .kr을 replace를 이용하여 ''빈칸으로 변경\n",
        "output2 = qr_data2.split('http://')[1].split('/')[0].replace('.kr', '') \n",
        "\n",
        "print(output1)  # 출력: pythontutor\n",
        "print(output2)  # 출력: mqr\n"
      ]
    },
    {
      "cell_type": "code",
      "execution_count": 28,
      "id": "e841c1c7",
      "metadata": {
        "id": "e841c1c7"
      },
      "outputs": [],
      "source": [
        "import qrcode\n",
        "\n",
        "qr_data1 = 'https://pythontutor.com/'\n",
        "qr_data2='http://mqr.kr/generate/email/?hl=ko'\n",
        "\n"
      ]
    }
  ],
  "metadata": {
    "colab": {
      "provenance": []
    },
    "kernelspec": {
      "display_name": "Python 3 (ipykernel)",
      "language": "python",
      "name": "python3"
    },
    "language_info": {
      "codemirror_mode": {
        "name": "ipython",
        "version": 3
      },
      "file_extension": ".py",
      "mimetype": "text/x-python",
      "name": "python",
      "nbconvert_exporter": "python",
      "pygments_lexer": "ipython3",
      "version": "3.11.0"
    }
  },
  "nbformat": 4,
  "nbformat_minor": 5
}
